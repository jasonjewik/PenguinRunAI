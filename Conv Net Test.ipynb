{
 "cells": [
  {
   "cell_type": "code",
   "execution_count": 70,
   "metadata": {},
   "outputs": [],
   "source": [
    "import tensorflow\n",
    "from keras.datasets import mnist\n",
    "from keras.datasets import cifar10\n",
    "from keras.models import Sequential\n",
    "from keras.layers import Conv2D, Dense, Flatten\n",
    "from keras.utils import to_categorical\n",
    "import matplotlib.pyplot as plt"
   ]
  },
  {
   "cell_type": "code",
   "execution_count": 65,
   "metadata": {},
   "outputs": [],
   "source": [
    "(mnist_x_train, mnist_y_train), (mnist_x_test, mnist_y_test) = mnist.load_data()\n",
    "mnist_x_train = mnist_x_train / 255 # we divide by 255 so that the values are between 0 and 1\n",
    "mnist_x_test = mnist_x_test / 255 \n",
    "mnist_x_train = mnist_x_train.reshape(60000, 28, 28, 1) # we have to reshape because the CNN expects a fourth term in the vector\n",
    "mnist_x_test = mnist_x_test.reshape(10000, 28, 28, 1)\n",
    "mnist_y_train = to_categorical(mnist_y_train, num_classes = 10) # one hot encodes our outputs\n",
    "mnist_y_test = to_categorical(mnist_y_test, num_classes = 10)"
   ]
  },
  {
   "cell_type": "code",
   "execution_count": 66,
   "metadata": {},
   "outputs": [],
   "source": [
    "cnn_model = Sequential([\n",
    "    Conv2D(filters = 64, kernel_size = 4, strides = 1, activation = 'relu', input_shape = (28, 28, 1)),\n",
    "    Conv2D(filters = 32, kernel_size = 4, strides = 1, activation = 'relu'),\n",
    "    Flatten(), # necessary for the transition between conv and regular layers\n",
    "    Dense(units = 10, activation = 'softmax')\n",
    "])"
   ]
  },
  {
   "cell_type": "code",
   "execution_count": 67,
   "metadata": {},
   "outputs": [],
   "source": [
    "cnn_model.compile(optimizer = 'adam', loss = 'categorical_crossentropy', metrics = ['accuracy'])"
   ]
  },
  {
   "cell_type": "code",
   "execution_count": 68,
   "metadata": {},
   "outputs": [
    {
     "name": "stdout",
     "output_type": "stream",
     "text": [
      "Epoch 1/3\n",
      "30000/30000 [==============================] - 160s 5ms/step - loss: 0.2274 - acc: 0.9318\n",
      "Epoch 2/3\n",
      "30000/30000 [==============================] - 153s 5ms/step - loss: 0.0658 - acc: 0.9808\n",
      "Epoch 3/3\n",
      "30000/30000 [==============================] - 162s 5ms/step - loss: 0.0433 - acc: 0.9869\n"
     ]
    },
    {
     "data": {
      "text/plain": [
       "<keras.callbacks.History at 0x1b900f0aeb8>"
      ]
     },
     "execution_count": 68,
     "metadata": {},
     "output_type": "execute_result"
    }
   ],
   "source": [
    "cnn_model.fit(x = mnist_x_train[0:30000], y = mnist_y_train[0:30000], batch_size = 100, epochs = 3)"
   ]
  },
  {
   "cell_type": "code",
   "execution_count": 69,
   "metadata": {},
   "outputs": [
    {
     "name": "stdout",
     "output_type": "stream",
     "text": [
      "10000/10000 [==============================] - 17s 2ms/step\n"
     ]
    },
    {
     "data": {
      "text/plain": [
       "[0.05162027939179097, 0.9838000059127807]"
      ]
     },
     "execution_count": 69,
     "metadata": {},
     "output_type": "execute_result"
    }
   ],
   "source": [
    "cnn_model.evaluate(x = mnist_x_test, y = mnist_y_test, batch_size = 100)"
   ]
  },
  {
   "cell_type": "code",
   "execution_count": 85,
   "metadata": {},
   "outputs": [],
   "source": [
    "(cifar_x_train, cifar_y_train), (cifar_x_test,  cifar_y_test) = cifar10.load_data()\n",
    "cifar_x_train = cifar_x_train / 255\n",
    "cifar_x_test = cifar_x_test / 255\n",
    "cifar_y_train = to_categorical(cifar_y_train, num_classes = 10) # one hot encodes our outputs\n",
    "cifar_y_test = to_categorical(cifar_y_test, num_classes = 10)"
   ]
  },
  {
   "cell_type": "code",
   "execution_count": 92,
   "metadata": {},
   "outputs": [],
   "source": [
    "cnn_model_2 = Sequential([\n",
    "    Conv2D(filters = 64, kernel_size = 8, strides = 1, activation = 'relu', input_shape = (32, 32, 3)),\n",
    "    Conv2D(filters = 32, kernel_size = 4, strides = 1, activation = 'relu'),\n",
    "    Flatten(), # necessary for the transition between conv and regular layers\n",
    "    Dense(units = 10, activation = 'softmax')\n",
    "])"
   ]
  },
  {
   "cell_type": "code",
   "execution_count": 93,
   "metadata": {},
   "outputs": [],
   "source": [
    "cnn_model_2.compile(optimizer = 'adam', loss = 'categorical_crossentropy', metrics = ['accuracy'])"
   ]
  },
  {
   "cell_type": "code",
   "execution_count": null,
   "metadata": {},
   "outputs": [
    {
     "name": "stdout",
     "output_type": "stream",
     "text": [
      "Epoch 1/10\n",
      "10000/10000 [==============================] - 62s 6ms/step - loss: 1.9124 - acc: 0.3081\n",
      "Epoch 2/10\n",
      "10000/10000 [==============================] - 57s 6ms/step - loss: 1.6158 - acc: 0.4304\n",
      "Epoch 3/10\n",
      "10000/10000 [==============================] - 59s 6ms/step - loss: 1.5225 - acc: 0.4535\n",
      "Epoch 4/10\n",
      "10000/10000 [==============================] - 62s 6ms/step - loss: 1.4292 - acc: 0.4892\n",
      "Epoch 5/10\n",
      "10000/10000 [==============================] - 59s 6ms/step - loss: 1.3450 - acc: 0.5185\n",
      "Epoch 6/10\n",
      "10000/10000 [==============================] - 62s 6ms/step - loss: 1.3081 - acc: 0.5360\n",
      "Epoch 7/10\n",
      "10000/10000 [==============================] - 62s 6ms/step - loss: 1.2229 - acc: 0.5701\n",
      "Epoch 8/10\n",
      "10000/10000 [==============================] - 59s 6ms/step - loss: 1.1771 - acc: 0.5869\n",
      "Epoch 9/10\n",
      " 6900/10000 [===================>..........] - ETA: 18s - loss: 1.1123 - acc: 0.6151"
     ]
    }
   ],
   "source": [
    "cnn_model_2.fit(x = cifar_x_train[0:10000], y = cifar_y_train[0:10000], batch_size = 100, epochs = 10)"
   ]
  },
  {
   "cell_type": "code",
   "execution_count": null,
   "metadata": {},
   "outputs": [],
   "source": []
  }
 ],
 "metadata": {
  "kernelspec": {
   "display_name": "Python 3",
   "language": "python",
   "name": "python3"
  },
  "language_info": {
   "codemirror_mode": {
    "name": "ipython",
    "version": 3
   },
   "file_extension": ".py",
   "mimetype": "text/x-python",
   "name": "python",
   "nbconvert_exporter": "python",
   "pygments_lexer": "ipython3",
   "version": "3.6.4"
  }
 },
 "nbformat": 4,
 "nbformat_minor": 2
}
