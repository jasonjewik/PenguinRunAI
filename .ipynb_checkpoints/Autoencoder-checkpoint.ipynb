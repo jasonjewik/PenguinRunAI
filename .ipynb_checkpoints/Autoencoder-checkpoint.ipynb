{
 "cells": [
  {
   "cell_type": "code",
   "execution_count": 3,
   "metadata": {},
   "outputs": [
    {
     "name": "stderr",
     "output_type": "stream",
     "text": [
      "Using TensorFlow backend.\n"
     ]
    }
   ],
   "source": [
    "from keras.layers import Input, Dense, Conv2D, MaxPooling2D, UpSampling2D\n",
    "from keras.models import Model\n",
    "from keras import backend as K"
   ]
  },
  {
   "cell_type": "code",
   "execution_count": 4,
   "metadata": {},
   "outputs": [],
   "source": [
    "import glob, os\n",
    "import imageio\n",
    "import numpy as np\n",
    "os.chdir(os.getcwd() + \"/screenshots\")\n",
    "images = list()\n",
    "for file in glob.glob(\"*.png\"):\n",
    "    images.append(imageio.imread(file))\n",
    "\n",
    "arr = np.asarray(images)\n",
    "os.chdir(\"..\")"
   ]
  },
  {
   "cell_type": "code",
   "execution_count": 5,
   "metadata": {},
   "outputs": [
    {
     "data": {
      "text/plain": [
       "(699, 608, 1264, 3)"
      ]
     },
     "execution_count": 5,
     "metadata": {},
     "output_type": "execute_result"
    }
   ],
   "source": [
    "arr.shape"
   ]
  },
  {
   "cell_type": "code",
   "execution_count": 6,
   "metadata": {},
   "outputs": [],
   "source": [
    "input_img = Input(shape=(608, 1264, 3))"
   ]
  },
  {
   "cell_type": "code",
   "execution_count": 7,
   "metadata": {},
   "outputs": [],
   "source": [
    "## ENCODER\n",
    "conv_1 = Conv2D(filters = 64, kernel_size = (32, 32), strides = (32, 32), activation = \"relu\", padding = \"same\")(input_img)\n",
    "encoded = MaxPooling2D(pool_size = (2, 2), padding = \"same\")(conv_1)\n",
    "\n",
    "## DECODER\n",
    "conv_2 = Conv2D(filters = 64, kernel_size = (32, 32), strides = (32, 32), activation = \"relu\", padding = \"same\")(encoded)\n",
    "upsample_1 = UpSampling2D(size = (608, 1264))(conv_2)\n",
    "decoded = Conv2D(filters = 3, kernel_size = (2, 2), activation = \"sigmoid\", padding = \"same\")(upsample_1)"
   ]
  },
  {
   "cell_type": "code",
   "execution_count": 8,
   "metadata": {},
   "outputs": [],
   "source": [
    "autoencoder = Model(input_img, decoded)\n",
    "autoencoder.compile(optimizer = \"adadelta\", loss = \"binary_crossentropy\")"
   ]
  },
  {
   "cell_type": "code",
   "execution_count": 9,
   "metadata": {},
   "outputs": [],
   "source": [
    "x_train = arr[:10]\n",
    "x_train = x_train / 255"
   ]
  },
  {
   "cell_type": "code",
   "execution_count": 10,
   "metadata": {},
   "outputs": [
    {
     "data": {
      "text/plain": [
       "(10, 608, 1264, 3)"
      ]
     },
     "execution_count": 10,
     "metadata": {},
     "output_type": "execute_result"
    }
   ],
   "source": [
    "x_train.shape"
   ]
  },
  {
   "cell_type": "code",
   "execution_count": 11,
   "metadata": {},
   "outputs": [],
   "source": [
    "encoder = Model(input_img, encoded)\n",
    "results = encoder.predict(x_train)"
   ]
  },
  {
   "cell_type": "code",
   "execution_count": 12,
   "metadata": {},
   "outputs": [
    {
     "data": {
      "text/plain": [
       "(10, 10, 20, 64)"
      ]
     },
     "execution_count": 12,
     "metadata": {},
     "output_type": "execute_result"
    }
   ],
   "source": [
    "results.shape"
   ]
  },
  {
   "cell_type": "code",
   "execution_count": 13,
   "metadata": {},
   "outputs": [
    {
     "data": {
      "text/plain": [
       "array([[[0.4865704 , 0.        , 0.08577177, ..., 0.3219471 ,\n",
       "         0.26377133, 0.3585642 ],\n",
       "        [0.4179604 , 0.        , 0.08577177, ..., 0.3219471 ,\n",
       "         0.19774733, 0.3585642 ],\n",
       "        [0.4179604 , 0.        , 0.08577177, ..., 0.3219471 ,\n",
       "         0.19774733, 0.3585642 ],\n",
       "        ...,\n",
       "        [0.3886046 , 0.        , 0.14432985, ..., 0.28993875,\n",
       "         0.34494036, 0.36853835],\n",
       "        [0.41762042, 0.        , 0.07445727, ..., 0.3201933 ,\n",
       "         0.18639798, 0.38883325],\n",
       "        [0.43323824, 0.        , 0.1857129 , ..., 0.3019269 ,\n",
       "         0.3297573 , 0.36133227]],\n",
       "\n",
       "       [[0.4865704 , 0.        , 0.08577177, ..., 0.3219471 ,\n",
       "         0.27007067, 0.3588956 ],\n",
       "        [0.4179604 , 0.        , 0.08577177, ..., 0.3219471 ,\n",
       "         0.19774733, 0.3585642 ],\n",
       "        [0.4179604 , 0.        , 0.08577177, ..., 0.3219471 ,\n",
       "         0.19774733, 0.3585642 ],\n",
       "        ...,\n",
       "        [0.41841894, 0.        , 0.13049148, ..., 0.322536  ,\n",
       "         0.19750106, 0.3596722 ],\n",
       "        [0.41673586, 0.        , 0.08720923, ..., 0.33041924,\n",
       "         0.21172772, 0.36614382],\n",
       "        [0.41989785, 0.        , 0.18937832, ..., 0.3405648 ,\n",
       "         0.20036884, 0.3671158 ]],\n",
       "\n",
       "       [[0.44640067, 0.        , 0.06760395, ..., 0.3148251 ,\n",
       "         0.2466488 , 0.3661797 ],\n",
       "        [0.4179604 , 0.        , 0.08606975, ..., 0.32217255,\n",
       "         0.2015681 , 0.35875756],\n",
       "        [0.41799843, 0.        , 0.08584285, ..., 0.3219471 ,\n",
       "         0.19786803, 0.35857022],\n",
       "        ...,\n",
       "        [0.41841894, 0.        , 0.08631066, ..., 0.329161  ,\n",
       "         0.21068977, 0.3627337 ],\n",
       "        [0.40134004, 0.        , 0.05332233, ..., 0.3146988 ,\n",
       "         0.19332229, 0.33052856],\n",
       "        [0.4006667 , 0.        , 0.13988389, ..., 0.31350848,\n",
       "         0.18247685, 0.31869277]],\n",
       "\n",
       "       ...,\n",
       "\n",
       "       [[0.43964294, 0.        , 0.037405  , ..., 0.31432533,\n",
       "         0.24177198, 0.31723055],\n",
       "        [0.402061  , 0.        , 0.08558614, ..., 0.31432533,\n",
       "         0.18130878, 0.31757376],\n",
       "        [0.4013645 , 0.        , 0.06492817, ..., 0.3805941 ,\n",
       "         0.18084916, 0.3180444 ],\n",
       "        ...,\n",
       "        [0.40091985, 0.        , 0.03853434, ..., 0.3134687 ,\n",
       "         0.18071792, 0.3179883 ],\n",
       "        [0.40091985, 0.        , 0.03853434, ..., 0.3134687 ,\n",
       "         0.18071792, 0.3179883 ],\n",
       "        [0.40091985, 0.        , 0.13354765, ..., 0.3134687 ,\n",
       "         0.18071792, 0.3179883 ]],\n",
       "\n",
       "       [[0.43964294, 0.        , 0.037405  , ..., 0.32853886,\n",
       "         0.25648442, 0.31917402],\n",
       "        [0.402061  , 0.        , 0.03771713, ..., 0.3279612 ,\n",
       "         0.22022636, 0.3368051 ],\n",
       "        [0.40091985, 0.        , 0.03853434, ..., 0.32603538,\n",
       "         0.22295013, 0.33607844],\n",
       "        ...,\n",
       "        [0.40091985, 0.        , 0.03893623, ..., 0.32417837,\n",
       "         0.23745343, 0.3179883 ],\n",
       "        [0.40091985, 0.        , 0.03853434, ..., 0.32433158,\n",
       "         0.22821759, 0.31853113],\n",
       "        [0.40091985, 0.        , 0.13369337, ..., 0.3134687 ,\n",
       "         0.22265528, 0.32464108]],\n",
       "\n",
       "       [[0.41255096, 0.        , 0.        , ..., 0.32675785,\n",
       "         0.24200809, 0.31616074],\n",
       "        [0.38884538, 0.        , 0.        , ..., 0.324239  ,\n",
       "         0.22570378, 0.3078621 ],\n",
       "        [0.38900733, 0.        , 0.        , ..., 0.31904566,\n",
       "         0.22750288, 0.31293333],\n",
       "        ...,\n",
       "        [0.42884475, 0.        , 0.        , ..., 0.30629525,\n",
       "         0.20130748, 0.35492805],\n",
       "        [0.43336818, 0.        , 0.        , ..., 0.30023175,\n",
       "         0.20778468, 0.34183362],\n",
       "        [0.39590666, 0.        , 0.0676168 , ..., 0.29844964,\n",
       "         0.22230908, 0.33463836]]], dtype=float32)"
      ]
     },
     "execution_count": 13,
     "metadata": {},
     "output_type": "execute_result"
    }
   ],
   "source": [
    "results[2]"
   ]
  },
  {
   "cell_type": "code",
   "execution_count": 14,
   "metadata": {},
   "outputs": [
    {
     "name": "stdout",
     "output_type": "stream",
     "text": [
      "_________________________________________________________________\n",
      "Layer (type)                 Output Shape              Param #   \n",
      "=================================================================\n",
      "input_1 (InputLayer)         (None, 608, 1264, 3)      0         \n",
      "_________________________________________________________________\n",
      "conv2d_1 (Conv2D)            (None, 19, 40, 64)        196672    \n",
      "_________________________________________________________________\n",
      "max_pooling2d_1 (MaxPooling2 (None, 10, 20, 64)        0         \n",
      "_________________________________________________________________\n",
      "conv2d_2 (Conv2D)            (None, 1, 1, 64)          4194368   \n",
      "_________________________________________________________________\n",
      "up_sampling2d_1 (UpSampling2 (None, 608, 1264, 64)     0         \n",
      "_________________________________________________________________\n",
      "conv2d_3 (Conv2D)            (None, 608, 1264, 3)      771       \n",
      "=================================================================\n",
      "Total params: 4,391,811\n",
      "Trainable params: 4,391,811\n",
      "Non-trainable params: 0\n",
      "_________________________________________________________________\n"
     ]
    }
   ],
   "source": [
    "autoencoder.summary()"
   ]
  },
  {
   "cell_type": "code",
   "execution_count": 15,
   "metadata": {},
   "outputs": [
    {
     "name": "stdout",
     "output_type": "stream",
     "text": [
      "Train on 10 samples, validate on 10 samples\n",
      "Epoch 1/1\n",
      "10/10 [==============================] - 676s 68s/step - loss: 0.6939 - val_loss: 1.2854\n"
     ]
    },
    {
     "data": {
      "text/plain": [
       "<keras.callbacks.History at 0x1bc8038f198>"
      ]
     },
     "execution_count": 15,
     "metadata": {},
     "output_type": "execute_result"
    }
   ],
   "source": [
    "autoencoder.fit(x_train, x_train, epochs = 1, batch_size = 10, validation_data = (x_train, x_train))"
   ]
  },
  {
   "cell_type": "code",
   "execution_count": 16,
   "metadata": {},
   "outputs": [],
   "source": [
    "x_test = arr[12:13]"
   ]
  },
  {
   "cell_type": "code",
   "execution_count": 17,
   "metadata": {},
   "outputs": [],
   "source": [
    "x_test = x_test / 255"
   ]
  },
  {
   "cell_type": "code",
   "execution_count": 18,
   "metadata": {},
   "outputs": [],
   "source": [
    "decoded_imgs = autoencoder.predict(x_test)"
   ]
  },
  {
   "cell_type": "code",
   "execution_count": 19,
   "metadata": {},
   "outputs": [
    {
     "data": {
      "text/plain": [
       "(608, 1264, 3)"
      ]
     },
     "execution_count": 19,
     "metadata": {},
     "output_type": "execute_result"
    }
   ],
   "source": [
    "decoded_imgs[0].shape"
   ]
  },
  {
   "cell_type": "code",
   "execution_count": 21,
   "metadata": {},
   "outputs": [],
   "source": [
    "from matplotlib import pyplot as plt"
   ]
  },
  {
   "cell_type": "code",
   "execution_count": 24,
   "metadata": {},
   "outputs": [
    {
     "data": {
      "image/png": "[encoded data removed]",
      "text/plain": [
       "<Figure size 432x288 with 1 Axes>"
      ]
     },
     "metadata": {
      "needs_background": "light"
     },
     "output_type": "display_data"
    }
   ],
   "source": [
    "plt.imshow(decoded_imgs[0])\n",
    "plt.show()"
   ]
  },
  {
   "cell_type": "code",
   "execution_count": 25,
   "metadata": {},
   "outputs": [
    {
     "data": {
      "text/plain": [
       "(1, 608, 1264, 3)"
      ]
     },
     "execution_count": 25,
     "metadata": {},
     "output_type": "execute_result"
    }
   ],
   "source": [
    "decoded_imgs.shape"
   ]
  },
  {
   "cell_type": "code",
   "execution_count": null,
   "metadata": {},
   "outputs": [],
   "source": []
  }
 ],
 "metadata": {
  "kernelspec": {
   "display_name": "Python 3",
   "language": "python",
   "name": "python3"
  },
  "language_info": {
   "codemirror_mode": {
    "name": "ipython",
    "version": 3
   },
   "file_extension": ".py",
   "mimetype": "text/x-python",
   "name": "python",
   "nbconvert_exporter": "python",
   "pygments_lexer": "ipython3",
   "version": "3.6.4"
  }
 },
 "nbformat": 4,
 "nbformat_minor": 2
}
