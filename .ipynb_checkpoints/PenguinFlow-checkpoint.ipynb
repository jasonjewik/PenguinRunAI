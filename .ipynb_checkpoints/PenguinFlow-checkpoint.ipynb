{
 "cells": [
  {
   "cell_type": "code",
   "execution_count": 20,
   "metadata": {},
   "outputs": [
    {
     "data": {
      "text/plain": [
       "1"
      ]
     },
     "execution_count": 20,
     "metadata": {},
     "output_type": "execute_result"
    }
   ],
   "source": [
    "# for image compression testing\n",
    "import glob, os\n",
    "import time\n",
    "from matplotlib import pyplot as plt\n",
    "from matplotlib import animation\n",
    "\n",
    "# for getting screenshots\n",
    "import numpy as np\n",
    "from PIL import Image, ImageGrab\n",
    "\n",
    "# for getting keyboard input\n",
    "from pynput import keyboard, mouse\n",
    "from pynput.keyboard import Key, Controller\n",
    "from pynput.mouse import Controller\n",
    "\n",
    "# makes the program DPI aware so that it can actually capture the screen correctly\n",
    "# coordinates would be messed up otherwise\n",
    "from ctypes import windll\n",
    "user32 = windll.user32\n",
    "user32.SetProcessDPIAware()"
   ]
  },
  {
   "cell_type": "code",
   "execution_count": null,
   "metadata": {},
   "outputs": [],
   "source": [
    "'''\n",
    "Image Compression Testing\n",
    "'''\n",
    "\n",
    "# get images\n",
    "os.chdir(os.getcwd() + \"/test_screenshots\")\n",
    "scale = 0.05\n",
    "images = list()\n",
    "startTime = time.time()\n",
    "for file in glob.glob(\"*.png\"):\n",
    "    im = Image.open(file).convert(\"L\")\n",
    "    width, height = im.size\n",
    "    im = im.resize((round(scale * width), round(scale * height)) , Image.BICUBIC)\n",
    "    np_im = np.array(im) / 255\n",
    "    images.append(np_im)\n",
    "endTime = time.time()\n",
    "\n",
    "totalTime = endTime - startTime\n",
    "avgTime = totalTime / len(images)\n",
    "arr = np.asarray(images)\n",
    "os.chdir(\"..\")\n",
    "\n",
    "# display new images\n",
    "plt.imshow(arr[264], cmap = \"gray\")\n",
    "plt.show()\n",
    "\n",
    "# get time results\n",
    "print(\"Total Time: \" + str(totalTime) + \" seconds\")\n",
    "print(\"Average Time: \" + str(avgTime) + \" seconds\")"
   ]
  },
  {
   "cell_type": "code",
   "execution_count": 21,
   "metadata": {},
   "outputs": [],
   "source": [
    "# bound coordinates for the screenshots\n",
    "x1, y1, x2, y2 = 0, 0, 0, 0\n",
    "arr = list()"
   ]
  },
  {
   "cell_type": "code",
   "execution_count": 22,
   "metadata": {},
   "outputs": [],
   "source": [
    "# for getting keyboard/mouse input to set the bound coordinates\n",
    "kb = Controller()\n",
    "mouse = Controller()"
   ]
  },
  {
   "cell_type": "code",
   "execution_count": 23,
   "metadata": {},
   "outputs": [],
   "source": [
    "def getTrainingData():\n",
    "    training = True\n",
    "    def endTraining(key):\n",
    "        keyboard.Listener.stop(listener2)\n",
    "        print(\"Lister 2 stopped!\")\n",
    "    \n",
    "    # Collect events until released\n",
    "    listener2 = keyboard.Listener(on_press = endTraining, on_release = None)\n",
    "    listener2.start()\n",
    "    print(\"Listener 2 started!\")\n",
    "    screenShotsTaken = 0\n",
    "    images = list()\n",
    "    scale = 0.05\n",
    "    elapsedTime = 0    \n",
    "    startTime = time.time()\n",
    "\n",
    "    while training:                        \n",
    "        im = ImageGrab.grab((x1, y1, x2, y2)) # get screenshot\n",
    "        im = im.convert(\"L\") # convert to grayscale\n",
    "        width, height = im.size\n",
    "        im = im.resize((round(scale * width), round(scale * height)) , Image.BICUBIC) # scale down the image\n",
    "        np_im = np.array(im) / 255 # scale down the pixel values\n",
    "\n",
    "        images.append(np_im)\n",
    "        screenShotsTaken = screenShotsTaken + 1\n",
    "        elapsedTime = time.time() - startTime   \n",
    "        training = listener2.running\n",
    "        \n",
    "    print(\"Total time: \" + str(elapsedTime))\n",
    "    print(\"Screenshots Taken: \" + str(screenShotsTaken))\n",
    "    print(\"Average time per screenshot: \" + str(elapsedTime / screenShotsTaken))\n",
    "    return images"
   ]
  },
  {
   "cell_type": "code",
   "execution_count": 24,
   "metadata": {},
   "outputs": [],
   "source": [
    "def on_press(key):\n",
    "    global x1, y1, x2, y2\n",
    "    if key == Key.shift_l:\n",
    "        if x1 == 0:\n",
    "            x1, y1 = mouse.position\n",
    "        else:\n",
    "            x2, y2 = mouse.position\n",
    "    if key == Key.print_screen:\n",
    "        # display screenshot to confirm bound coordinates\n",
    "        im = ImageGrab.grab((x1, y1, x2, y2))\n",
    "        plt.imshow(np.asarray(im))\n",
    "        plt.title(\"Is this screencap right?\")\n",
    "        plt.show()"
   ]
  },
  {
   "cell_type": "code",
   "execution_count": 25,
   "metadata": {},
   "outputs": [],
   "source": [
    "def on_release(key):\n",
    "    if key == Key.ctrl_l:\n",
    "        # Stop listener\n",
    "        keyboard.Listener.stop(listener)\n",
    "        print(\"Listener stopped!\")\n",
    "        # start training \n",
    "        print(\"Getting training data!\")\n",
    "        global arr\n",
    "        arr = getTrainingData()\n",
    "    if key == Key.esc:\n",
    "        # stop training\n",
    "        training = False\n",
    "        # Stop listener\n",
    "        keyboard.Listener.stop(listener)\n",
    "        print(\"Listener stopped!\")"
   ]
  },
  {
   "cell_type": "code",
   "execution_count": 26,
   "metadata": {},
   "outputs": [
    {
     "name": "stdout",
     "output_type": "stream",
     "text": [
      "Listener started!\n"
     ]
    },
    {
     "data": {
      "image/png": "[encoded data removed]",
      "text/plain": [
       "<Figure size 432x288 with 1 Axes>"
      ]
     },
     "metadata": {
      "needs_background": "light"
     },
     "output_type": "display_data"
    },
    {
     "name": "stdout",
     "output_type": "stream",
     "text": [
      "Listener stopped!\n",
      "Getting training data!\n",
      "Listener 2 started!\n",
      "Lister 2 stopped!\n",
      "Total time: 0.6793577671051025\n",
      "Screenshots Taken: 13\n",
      "Average time per screenshot: 0.05225828977731558\n"
     ]
    }
   ],
   "source": [
    "# Collect events until released\n",
    "listener = keyboard.Listener(on_press = on_press, on_release = on_release)\n",
    "listener.start()\n",
    "print(\"Listener started!\")"
   ]
  },
  {
   "cell_type": "code",
   "execution_count": null,
   "metadata": {},
   "outputs": [],
   "source": [
    "# clear the screenshots folder\n",
    "os.chdir(os.getcwd() + \"/screenshots\")\n",
    "for f in glob.glob(\"*\"):\n",
    "    os.remove(f)\n",
    "os.chdir(\"..\")"
   ]
  },
  {
   "cell_type": "code",
   "execution_count": 27,
   "metadata": {},
   "outputs": [],
   "source": [
    "np_arr = np.asarray(arr)"
   ]
  },
  {
   "cell_type": "code",
   "execution_count": 30,
   "metadata": {},
   "outputs": [
    {
     "data": {
      "image/png": "[encoded data removed]",
      "text/plain": [
       "<Figure size 432x288 with 1 Axes>"
      ]
     },
     "metadata": {
      "needs_background": "light"
     },
     "output_type": "display_data"
    }
   ],
   "source": [
    "plt.imshow(np_arr[0], cmap = \"gray\")\n",
    "plt.show()"
   ]
  },
  {
   "cell_type": "code",
   "execution_count": null,
   "metadata": {},
   "outputs": [],
   "source": []
  }
 ],
 "metadata": {
  "kernelspec": {
   "display_name": "Python 3",
   "language": "python",
   "name": "python3"
  },
  "language_info": {
   "codemirror_mode": {
    "name": "ipython",
    "version": 3
   },
   "file_extension": ".py",
   "mimetype": "text/x-python",
   "name": "python",
   "nbconvert_exporter": "python",
   "pygments_lexer": "ipython3",
   "version": "3.6.4"
  }
 },
 "nbformat": 4,
 "nbformat_minor": 2
}
