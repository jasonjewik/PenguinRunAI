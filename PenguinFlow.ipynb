{
 "cells": [
  {
   "cell_type": "code",
   "execution_count": 1,
   "metadata": {},
   "outputs": [
    {
     "data": {
      "text/plain": [
       "1"
      ]
     },
     "execution_count": 1,
     "metadata": {},
     "output_type": "execute_result"
    }
   ],
   "source": [
    "# for image compression testing\n",
    "import glob, os\n",
    "import time\n",
    "from matplotlib import pyplot as plt\n",
    "from matplotlib import animation\n",
    "from IPython.display import HTML\n",
    "\n",
    "# for getting screenshots\n",
    "import numpy as np\n",
    "from PIL import Image, ImageGrab\n",
    "\n",
    "# for getting keyboard input\n",
    "from pynput import keyboard, mouse\n",
    "from pynput.keyboard import Key\n",
    "from pynput.keyboard import Controller as keyController\n",
    "from pynput.mouse import Controller\n",
    "\n",
    "# makes the program DPI aware so that it can actually capture the screen correctly\n",
    "# coordinates would be messed up otherwise\n",
    "from ctypes import windll\n",
    "user32 = windll.user32\n",
    "user32.SetProcessDPIAware()"
   ]
  },
  {
   "cell_type": "code",
   "execution_count": 2,
   "metadata": {},
   "outputs": [
    {
     "name": "stderr",
     "output_type": "stream",
     "text": [
      "Using TensorFlow backend.\n"
     ]
    }
   ],
   "source": [
    "from keras.models import Model, Sequential\n",
    "from keras.layers import GRU, Dense\n",
    "from keras.utils import to_categorical"
   ]
  },
  {
   "cell_type": "code",
   "execution_count": 3,
   "metadata": {},
   "outputs": [],
   "source": [
    "# for getting keyboard/mouse input to set the bound coordinates\n",
    "kb = keyController()\n",
    "mouse = Controller()"
   ]
  },
  {
   "cell_type": "code",
   "execution_count": 4,
   "metadata": {},
   "outputs": [],
   "source": [
    "def getTrainingData():\n",
    "    training = True\n",
    "    keyPresses = list()\n",
    "\n",
    "    def on_press(key):\n",
    "        if key == Key.esc:\n",
    "            keyboard.Listener.stop(listener2)\n",
    "            print(\"Lister 2 stopped!\")\n",
    "        if key == Key.space:\n",
    "            keyPresses.pop()\n",
    "            keyPresses.append(1)\n",
    "    \n",
    "    # Collect events until released\n",
    "    listener2 = keyboard.Listener(on_press = on_press, on_release = None)\n",
    "    listener2.start()\n",
    "    print(\"Listener 2 started!\")\n",
    "    screenShotsTaken = 0\n",
    "    images = list()\n",
    "    scale = 0.05\n",
    "    elapsedTime = 0    \n",
    "    startTime = time.time()\n",
    "\n",
    "    while training:                        \n",
    "        im = ImageGrab.grab((x1, y1, x2, y2)) # get screenshot\n",
    "        im = im.convert(\"L\") # convert to grayscale\n",
    "        width, height = im.size\n",
    "        im = im.resize((round(scale * width), round(scale * height)) , Image.BICUBIC) # scale down the image\n",
    "        np_im = np.array(im) / 255 # scale down the pixel values\n",
    "\n",
    "        images.append(np_im)\n",
    "        keyPresses.append(0)\n",
    "        screenShotsTaken = screenShotsTaken + 1   \n",
    "        training = listener2.running\n",
    "        \n",
    "    elapsedTime = time.time() - startTime              \n",
    "    print(\"Total time: \" + str(time.time() - startTime  ))\n",
    "    print(\"Screenshots Taken: \" + str(screenShotsTaken))\n",
    "    print(\"Average time per screenshot: \" + str(elapsedTime / screenShotsTaken))\n",
    "    \n",
    "    frameRate = elapsedTime / screenShotsTaken * 1000\n",
    "    \n",
    "    result = list()\n",
    "    result.append(images)\n",
    "    result.append(keyPresses)\n",
    "    result.append(frameRate)\n",
    "    return result"
   ]
  },
  {
   "cell_type": "code",
   "execution_count": 54,
   "metadata": {},
   "outputs": [],
   "source": [
    "def playGame(model):    \n",
    "    playing = True\n",
    "    \n",
    "    def on_press(key):\n",
    "        if key == Key.esc:\n",
    "            keyboard.Listener.stop(listener3)\n",
    "            print(\"Listener 3 stopped!\")\n",
    "        \n",
    "    # Collect events until released\n",
    "    listener3 = keyboard.Listener(on_press = on_press, on_release = None)\n",
    "    listener3.start()\n",
    "    print(\"Listener 3 started!\")\n",
    "    \n",
    "    while playing:\n",
    "        im = ImageGrab.grab((x1, y1, x2, y2)) # get screenshot\n",
    "        im = im.convert(\"L\") # convert to grayscale\n",
    "        width, height = im.size\n",
    "        \n",
    "        scale = 0.05\n",
    "        im = im.resize((round(scale * width), round(scale * height)), Image.BICUBIC) # scale for the network\n",
    "        \n",
    "        # im = im.resize((62, 31), Image.BICUBIC)\n",
    "        np_im = np.array(im) / 255 # scale down the pixel values\n",
    "        output = model.predict(np.expand_dims(np_im, axis = 0))\n",
    "        print(output)\n",
    "        if output[0][0] > 0.1:\n",
    "            kb.press(Key.space)\n",
    "            kb.release(Key.space)\n",
    "            \n",
    "        playing = listener3.running"
   ]
  },
  {
   "cell_type": "code",
   "execution_count": 5,
   "metadata": {},
   "outputs": [],
   "source": [
    "def on_press(key):\n",
    "    global x1, y1, x2, y2\n",
    "    if key == Key.shift_l:\n",
    "        if x1 == 0:\n",
    "            x1, y1 = mouse.position\n",
    "        else:\n",
    "            x2, y2 = mouse.position\n",
    "    if key == Key.print_screen:\n",
    "        # display screenshot to confirm bound coordinates\n",
    "        im = ImageGrab.grab((x1, y1, x2, y2))\n",
    "        plt.imshow(np.asarray(im))\n",
    "        plt.title(\"Is this screencap right?\")\n",
    "        plt.show()"
   ]
  },
  {
   "cell_type": "code",
   "execution_count": 6,
   "metadata": {},
   "outputs": [],
   "source": [
    "def on_release(key):\n",
    "    if key == Key.ctrl_l:\n",
    "        # Stop listener\n",
    "        keyboard.Listener.stop(listener)\n",
    "        print(\"Listener stopped!\")\n",
    "        # start training \n",
    "        print(\"Getting training data!\")\n",
    "        global arr, inputs, frameRate\n",
    "        arr, inputs, frameRate = getTrainingData()\n",
    "    if key == Key.tab:\n",
    "        # Stop listener\n",
    "        keyboard.Listener.stop(listener)\n",
    "        print(\"listener stopped!\")\n",
    "        # run the network\n",
    "        print(\"playing game!\")\n",
    "        playGame(model) \n",
    "    if key == Key.esc:\n",
    "        # stop training\n",
    "        training = False\n",
    "        # stop playing\n",
    "        playing = False\n",
    "        # Stop listener\n",
    "        keyboard.Listener.stop(listener)\n",
    "        print(\"Listener stopped!\")"
   ]
  },
  {
   "cell_type": "code",
   "execution_count": 67,
   "metadata": {},
   "outputs": [
    {
     "name": "stdout",
     "output_type": "stream",
     "text": [
      "Listener started!\n"
     ]
    },
    {
     "data": {
      "image/png": "[encoded data removed]",
      "text/plain": [
       "<Figure size 432x288 with 1 Axes>"
      ]
     },
     "metadata": {
      "needs_background": "light"
     },
     "output_type": "display_data"
    },
    {
     "name": "stdout",
     "output_type": "stream",
     "text": [
      "listener stopped!\n",
      "playing game!\n",
      "Listener 3 started!\n",
      "Listener 3 stopped!\n"
     ]
    }
   ],
   "source": [
    "# bound coordinates for the screenshots\n",
    "x1, y1, x2, y2 = 0, 0, 0, 0\n",
    "arr = list()\n",
    "inputs = list()\n",
    "frameRate = 0\n",
    "\n",
    "# Collect events until released\n",
    "listener = keyboard.Listener(on_press = on_press, on_release = on_release)\n",
    "listener.start()\n",
    "print(\"Listener started!\")"
   ]
  },
  {
   "cell_type": "code",
   "execution_count": 41,
   "metadata": {},
   "outputs": [
    {
     "ename": "IndexError",
     "evalue": "index 0 is out of bounds for axis 0 with size 0",
     "output_type": "error",
     "traceback": [
      "\u001b[1;31m---------------------------------------------------------------------------\u001b[0m",
      "\u001b[1;31mIndexError\u001b[0m                                Traceback (most recent call last)",
      "\u001b[1;32m<ipython-input-41-f651e1610684>\u001b[0m in \u001b[0;36m<module>\u001b[1;34m\u001b[0m\n\u001b[0;32m     17\u001b[0m \u001b[0mfig\u001b[0m \u001b[1;33m=\u001b[0m \u001b[0mplt\u001b[0m\u001b[1;33m.\u001b[0m\u001b[0mfigure\u001b[0m\u001b[1;33m(\u001b[0m\u001b[1;33m)\u001b[0m\u001b[1;33m\u001b[0m\u001b[0m\n\u001b[0;32m     18\u001b[0m \u001b[0mi\u001b[0m \u001b[1;33m=\u001b[0m \u001b[1;36m0\u001b[0m\u001b[1;33m\u001b[0m\u001b[0m\n\u001b[1;32m---> 19\u001b[1;33m \u001b[0mframe\u001b[0m \u001b[1;33m=\u001b[0m \u001b[0mplt\u001b[0m\u001b[1;33m.\u001b[0m\u001b[0mimshow\u001b[0m\u001b[1;33m(\u001b[0m\u001b[0mnp_arr\u001b[0m\u001b[1;33m[\u001b[0m\u001b[1;36m0\u001b[0m\u001b[1;33m]\u001b[0m\u001b[1;33m,\u001b[0m \u001b[0mcmap\u001b[0m \u001b[1;33m=\u001b[0m \u001b[1;34m\"gray\"\u001b[0m\u001b[1;33m,\u001b[0m \u001b[0manimated\u001b[0m \u001b[1;33m=\u001b[0m \u001b[1;32mTrue\u001b[0m\u001b[1;33m)\u001b[0m\u001b[1;33m\u001b[0m\u001b[0m\n\u001b[0m\u001b[0;32m     20\u001b[0m \u001b[1;32mdef\u001b[0m \u001b[0mupdate\u001b[0m\u001b[1;33m(\u001b[0m\u001b[1;33m*\u001b[0m\u001b[0margs\u001b[0m\u001b[1;33m)\u001b[0m\u001b[1;33m:\u001b[0m\u001b[1;33m\u001b[0m\u001b[0m\n\u001b[0;32m     21\u001b[0m     \u001b[1;32mglobal\u001b[0m \u001b[0mi\u001b[0m\u001b[1;33m\u001b[0m\u001b[0m\n",
      "\u001b[1;31mIndexError\u001b[0m: index 0 is out of bounds for axis 0 with size 0"
     ]
    },
    {
     "data": {
      "text/plain": [
       "<Figure size 432x288 with 0 Axes>"
      ]
     },
     "metadata": {},
     "output_type": "display_data"
    }
   ],
   "source": [
    "os.chdir(os.getcwd() + \"/training_data\")\n",
    "currentTime = time.gmtime(time.time())\n",
    "fileName = str(currentTime.tm_year) + str(currentTime.tm_mon)+ str(currentTime.tm_mday) + \"_\" + str(currentTime.tm_hour) + str(currentTime.tm_min) + str(currentTime.tm_sec)\n",
    "\n",
    "# save inputs to text file\n",
    "np.savetxt(fileName + \"_\" + \"inputs\" + \".txt\", inputs, fmt = \"%1.1u\", header = \"Key Presses\")\n",
    "\n",
    "# save numpy array of screencaps\n",
    "np_arr = np.asarray(arr)\n",
    "os.mkdir(fileName + \"_\" + \"screencaps\")\n",
    "os.chdir(os.getcwd() + \"/\" + fileName + \"_\" + \"screencaps\")\n",
    "for i in range(np_arr.shape[0]):\n",
    "    np.savetxt(\"frame\" + \"_\"  + str(i) + \".txt\", np_arr[i], header = \"Shape: \" + str(np_arr[i].shape))\n",
    "os.chdir(\"..\")\n",
    "\n",
    "# create and save animation\n",
    "fig = plt.figure()\n",
    "i = 0\n",
    "frame = plt.imshow(np_arr[0], cmap = \"gray\", animated = True)\n",
    "def update(*args):\n",
    "    global i\n",
    "    if (i < len(np_arr) - 1):\n",
    "        i = i + 1\n",
    "    else:\n",
    "        i = 0\n",
    "    frame.set_array(np_arr[i])\n",
    "    return frame\n",
    "anim = animation.FuncAnimation(fig, update, interval = frameRate, frames = len(np_arr) - 1)\n",
    "anim.save(fileName + \"_\" + \"video\" + \".mp4\")\n",
    "plt.close()\n",
    "\n",
    "os.chdir(\"..\")\n",
    "\n",
    "# create HTML preview file\n",
    "HTML(anim.to_html5_video())"
   ]
  },
  {
   "cell_type": "code",
   "execution_count": 44,
   "metadata": {},
   "outputs": [],
   "source": [
    "# load old data\n",
    "dataToUse = \"201959_18345_\"\n",
    "\n",
    "os.chdir(os.getcwd() + \"/training_data\")\n",
    "inputs = np.loadtxt(dataToUse + \"inputs.txt\")\n",
    "\n",
    "os.chdir(os.getcwd() + \"/\" + dataToUse + \"screencaps\")\n",
    "rawFrameData = list()\n",
    "\n",
    "for i in range(len(glob.glob(\"*.txt\"))):\n",
    "    rawFrameData.append(np.loadtxt(\"frame_\" + str(i) + \".txt\"))\n",
    "np_arr = np.asarray(rawFrameData)\n",
    "\n",
    "os.chdir(os.getcwd() + \"/../..\")"
   ]
  },
  {
   "cell_type": "code",
   "execution_count": 45,
   "metadata": {},
   "outputs": [
    {
     "data": {
      "text/plain": [
       "(31, 62)"
      ]
     },
     "execution_count": 45,
     "metadata": {},
     "output_type": "execute_result"
    }
   ],
   "source": [
    "# check image size\n",
    "np_arr[0].shape"
   ]
  },
  {
   "cell_type": "code",
   "execution_count": 10,
   "metadata": {},
   "outputs": [],
   "source": [
    "model = Sequential()"
   ]
  },
  {
   "cell_type": "code",
   "execution_count": 11,
   "metadata": {},
   "outputs": [],
   "source": [
    "model.add(GRU(units = 150, input_shape = (31, 62, ), return_sequences = True))"
   ]
  },
  {
   "cell_type": "code",
   "execution_count": 12,
   "metadata": {},
   "outputs": [],
   "source": [
    "model.add(GRU(units = 75, return_sequences = False))"
   ]
  },
  {
   "cell_type": "code",
   "execution_count": 13,
   "metadata": {},
   "outputs": [],
   "source": [
    "model.add(Dense(units = 1, activation = \"sigmoid\"))"
   ]
  },
  {
   "cell_type": "code",
   "execution_count": 28,
   "metadata": {},
   "outputs": [
    {
     "name": "stdout",
     "output_type": "stream",
     "text": [
      "_________________________________________________________________\n",
      "Layer (type)                 Output Shape              Param #   \n",
      "=================================================================\n",
      "gru_1 (GRU)                  (None, 31, 150)           95850     \n",
      "_________________________________________________________________\n",
      "gru_2 (GRU)                  (None, 75)                50850     \n",
      "_________________________________________________________________\n",
      "dense_1 (Dense)              (None, 1)                 76        \n",
      "=================================================================\n",
      "Total params: 146,776\n",
      "Trainable params: 146,776\n",
      "Non-trainable params: 0\n",
      "_________________________________________________________________\n"
     ]
    }
   ],
   "source": [
    "model.summary()"
   ]
  },
  {
   "cell_type": "code",
   "execution_count": 16,
   "metadata": {},
   "outputs": [],
   "source": [
    "model.compile(optimizer = \"RMSprop\", loss = \"mean_squared_error\", metrics = [\"accuracy\"])"
   ]
  },
  {
   "cell_type": "code",
   "execution_count": 46,
   "metadata": {
    "scrolled": true
   },
   "outputs": [
    {
     "name": "stdout",
     "output_type": "stream",
     "text": [
      "Train on 1345 samples, validate on 150 samples\n",
      "Epoch 1/10\n",
      " - 7s - loss: 0.0509 - acc: 0.9472 - val_loss: 0.0686 - val_acc: 0.9267\n",
      "Epoch 2/10\n",
      " - 4s - loss: 0.0501 - acc: 0.9472 - val_loss: 0.0696 - val_acc: 0.9267\n",
      "Epoch 3/10\n",
      " - 4s - loss: 0.0511 - acc: 0.9472 - val_loss: 0.0692 - val_acc: 0.9267\n",
      "Epoch 4/10\n",
      " - 4s - loss: 0.0499 - acc: 0.9472 - val_loss: 0.0689 - val_acc: 0.9267\n",
      "Epoch 5/10\n",
      " - 5s - loss: 0.0495 - acc: 0.9472 - val_loss: 0.0664 - val_acc: 0.9267\n",
      "Epoch 6/10\n",
      " - 4s - loss: 0.0517 - acc: 0.9457 - val_loss: 0.0680 - val_acc: 0.9267\n",
      "Epoch 7/10\n",
      " - 4s - loss: 0.0480 - acc: 0.9472 - val_loss: 0.0658 - val_acc: 0.9267\n",
      "Epoch 8/10\n",
      " - 4s - loss: 0.0567 - acc: 0.9264 - val_loss: 0.0575 - val_acc: 0.9267\n",
      "Epoch 9/10\n",
      " - 4s - loss: 0.0431 - acc: 0.9450 - val_loss: 0.0562 - val_acc: 0.9267\n",
      "Epoch 10/10\n",
      " - 4s - loss: 0.0425 - acc: 0.9472 - val_loss: 0.0559 - val_acc: 0.9267\n"
     ]
    },
    {
     "data": {
      "text/plain": [
       "<keras.callbacks.History at 0x132a50ff160>"
      ]
     },
     "execution_count": 46,
     "metadata": {},
     "output_type": "execute_result"
    }
   ],
   "source": [
    "model.fit(x = np_arr, y = inputs, batch_size = 32, epochs = 10, verbose = 2, validation_split = 0.1)"
   ]
  },
  {
   "cell_type": "code",
   "execution_count": 7,
   "metadata": {},
   "outputs": [],
   "source": [
    "from keras.models import load_model"
   ]
  },
  {
   "cell_type": "code",
   "execution_count": 56,
   "metadata": {},
   "outputs": [],
   "source": [
    "model.save('model-it-works.h5')"
   ]
  },
  {
   "cell_type": "code",
   "execution_count": 68,
   "metadata": {},
   "outputs": [
    {
     "data": {
      "text/plain": [
       "array([[0.02249125]], dtype=float32)"
      ]
     },
     "execution_count": 68,
     "metadata": {},
     "output_type": "execute_result"
    }
   ],
   "source": [
    "model.predict(np.expand_dims(np_arr[100], axis = 0))"
   ]
  },
  {
   "cell_type": "code",
   "execution_count": 8,
   "metadata": {},
   "outputs": [
    {
     "data": {
      "text/plain": [
       "'C:\\\\Users\\\\Jason Jewik\\\\Documents\\\\GitHub\\\\PenguinRunAI'"
      ]
     },
     "execution_count": 8,
     "metadata": {},
     "output_type": "execute_result"
    }
   ],
   "source": [
    "os.getcwd()"
   ]
  },
  {
   "cell_type": "code",
   "execution_count": 24,
   "metadata": {},
   "outputs": [],
   "source": [
    "model = load_model('model-201959_174219.h5')"
   ]
  },
  {
   "cell_type": "code",
   "execution_count": 38,
   "metadata": {},
   "outputs": [
    {
     "data": {
      "text/plain": [
       "<keras.engine.sequential.Sequential at 0x132a098f860>"
      ]
     },
     "execution_count": 38,
     "metadata": {},
     "output_type": "execute_result"
    }
   ],
   "source": [
    "model"
   ]
  },
  {
   "cell_type": "code",
   "execution_count": 42,
   "metadata": {},
   "outputs": [
    {
     "data": {
      "text/plain": [
       "'C:\\\\Users\\\\Jason Jewik\\\\Documents\\\\GitHub\\\\PenguinRunAI\\\\training_data'"
      ]
     },
     "execution_count": 42,
     "metadata": {},
     "output_type": "execute_result"
    }
   ],
   "source": [
    "os.getcwd()"
   ]
  },
  {
   "cell_type": "code",
   "execution_count": 43,
   "metadata": {},
   "outputs": [],
   "source": [
    "os.chdir(\"..\")"
   ]
  },
  {
   "cell_type": "code",
   "execution_count": 57,
   "metadata": {},
   "outputs": [],
   "source": [
    "json = model.to_json()"
   ]
  },
  {
   "cell_type": "code",
   "execution_count": 58,
   "metadata": {},
   "outputs": [
    {
     "data": {
      "text/plain": [
       "'{\"class_name\": \"Sequential\", \"config\": {\"name\": \"sequential_1\", \"layers\": [{\"class_name\": \"GRU\", \"config\": {\"name\": \"gru_1\", \"trainable\": true, \"batch_input_shape\": [null, 31, 62], \"dtype\": \"float32\", \"return_sequences\": true, \"return_state\": false, \"go_backwards\": false, \"stateful\": false, \"unroll\": false, \"units\": 150, \"activation\": \"tanh\", \"recurrent_activation\": \"hard_sigmoid\", \"use_bias\": true, \"kernel_initializer\": {\"class_name\": \"VarianceScaling\", \"config\": {\"scale\": 1.0, \"mode\": \"fan_avg\", \"distribution\": \"uniform\", \"seed\": null}}, \"recurrent_initializer\": {\"class_name\": \"Orthogonal\", \"config\": {\"gain\": 1.0, \"seed\": null}}, \"bias_initializer\": {\"class_name\": \"Zeros\", \"config\": {}}, \"kernel_regularizer\": null, \"recurrent_regularizer\": null, \"bias_regularizer\": null, \"activity_regularizer\": null, \"kernel_constraint\": null, \"recurrent_constraint\": null, \"bias_constraint\": null, \"dropout\": 0.0, \"recurrent_dropout\": 0.0, \"implementation\": 1, \"reset_after\": false}}, {\"class_name\": \"GRU\", \"config\": {\"name\": \"gru_2\", \"trainable\": true, \"return_sequences\": false, \"return_state\": false, \"go_backwards\": false, \"stateful\": false, \"unroll\": false, \"units\": 75, \"activation\": \"tanh\", \"recurrent_activation\": \"hard_sigmoid\", \"use_bias\": true, \"kernel_initializer\": {\"class_name\": \"VarianceScaling\", \"config\": {\"scale\": 1.0, \"mode\": \"fan_avg\", \"distribution\": \"uniform\", \"seed\": null}}, \"recurrent_initializer\": {\"class_name\": \"Orthogonal\", \"config\": {\"gain\": 1.0, \"seed\": null}}, \"bias_initializer\": {\"class_name\": \"Zeros\", \"config\": {}}, \"kernel_regularizer\": null, \"recurrent_regularizer\": null, \"bias_regularizer\": null, \"activity_regularizer\": null, \"kernel_constraint\": null, \"recurrent_constraint\": null, \"bias_constraint\": null, \"dropout\": 0.0, \"recurrent_dropout\": 0.0, \"implementation\": 1, \"reset_after\": false}}, {\"class_name\": \"Dense\", \"config\": {\"name\": \"dense_1\", \"trainable\": true, \"units\": 1, \"activation\": \"sigmoid\", \"use_bias\": true, \"kernel_initializer\": {\"class_name\": \"VarianceScaling\", \"config\": {\"scale\": 1.0, \"mode\": \"fan_avg\", \"distribution\": \"uniform\", \"seed\": null}}, \"bias_initializer\": {\"class_name\": \"Zeros\", \"config\": {}}, \"kernel_regularizer\": null, \"bias_regularizer\": null, \"activity_regularizer\": null, \"kernel_constraint\": null, \"bias_constraint\": null}}]}, \"keras_version\": \"2.2.4\", \"backend\": \"tensorflow\"}'"
      ]
     },
     "execution_count": 58,
     "metadata": {},
     "output_type": "execute_result"
    }
   ],
   "source": [
    "json"
   ]
  },
  {
   "cell_type": "code",
   "execution_count": 59,
   "metadata": {},
   "outputs": [],
   "source": [
    "model.save_weights('weights.h5')"
   ]
  },
  {
   "cell_type": "code",
   "execution_count": 60,
   "metadata": {},
   "outputs": [],
   "source": [
    "import h5py"
   ]
  },
  {
   "cell_type": "code",
   "execution_count": 61,
   "metadata": {},
   "outputs": [],
   "source": [
    "model.save('model-it-works.h5')"
   ]
  },
  {
   "cell_type": "code",
   "execution_count": 62,
   "metadata": {},
   "outputs": [],
   "source": [
    "del model"
   ]
  },
  {
   "cell_type": "code",
   "execution_count": 65,
   "metadata": {},
   "outputs": [],
   "source": [
    "model = load_model('model-it-works.h5')"
   ]
  },
  {
   "cell_type": "code",
   "execution_count": 66,
   "metadata": {},
   "outputs": [
    {
     "name": "stdout",
     "output_type": "stream",
     "text": [
      "_________________________________________________________________\n",
      "Layer (type)                 Output Shape              Param #   \n",
      "=================================================================\n",
      "gru_1 (GRU)                  (None, 31, 150)           95850     \n",
      "_________________________________________________________________\n",
      "gru_2 (GRU)                  (None, 75)                50850     \n",
      "_________________________________________________________________\n",
      "dense_1 (Dense)              (None, 1)                 76        \n",
      "=================================================================\n",
      "Total params: 146,776\n",
      "Trainable params: 146,776\n",
      "Non-trainable params: 0\n",
      "_________________________________________________________________\n"
     ]
    }
   ],
   "source": [
    "model.summary()"
   ]
  },
  {
   "cell_type": "code",
   "execution_count": null,
   "metadata": {},
   "outputs": [],
   "source": []
  }
 ],
 "metadata": {
  "kernelspec": {
   "display_name": "Python 3",
   "language": "python",
   "name": "python3"
  },
  "language_info": {
   "codemirror_mode": {
    "name": "ipython",
    "version": 3
   },
   "file_extension": ".py",
   "mimetype": "text/x-python",
   "name": "python",
   "nbconvert_exporter": "python",
   "pygments_lexer": "ipython3",
   "version": "3.6.4"
  }
 },
 "nbformat": 4,
 "nbformat_minor": 2
}
