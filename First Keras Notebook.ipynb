{
 "cells": [
  {
   "cell_type": "code",
   "execution_count": 21,
   "metadata": {},
   "outputs": [],
   "source": [
    "import numpy as np\n",
    "from matplotlib import pyplot\n",
    "from sklearn.preprocessing import OneHotEncoder\n",
    "from keras.models import Sequential\n",
    "from keras.layers import Dense, Activation"
   ]
  },
  {
   "cell_type": "code",
   "execution_count": 14,
   "metadata": {},
   "outputs": [],
   "source": [
    "model = Sequential([\n",
    "    Dense(units = 32, input_shape = (784,)), # units specifies the number of expected outputs\n",
    "    Activation('relu'), # activation function to be used on above layer\n",
    "    Dense(units = 10), # doesn't need input_shape, will use the units of the previous layer\n",
    "    Activation('softmax') # final activation\n",
    "])"
   ]
  },
  {
   "cell_type": "code",
   "execution_count": 38,
   "metadata": {},
   "outputs": [],
   "source": [
    "model.compile(optimizer = 'sgd',\n",
    "             loss = 'categorical_crossentropy',\n",
    "             metrics = ['accuracy'])"
   ]
  },
  {
   "cell_type": "code",
   "execution_count": 28,
   "metadata": {},
   "outputs": [],
   "source": [
    "def getMnistData():\n",
    "    mnist = keras.datasets.mnist\n",
    "    (x_train, y_train), (x_test, y_test) = mnist.load_data()\n",
    "    y_train = keras.utils.to_categorical(y = (y_train)[0:60000], num_classes = 10)\n",
    "    y_test = keras.utils.to_categorical(y = y_test, num_classes = 10) # one hot encodes our data\n",
    "    \n",
    "    x_train_temp = np.zeros((60000, 784))\n",
    "    for i in range(len(x_train)):\n",
    "        x_train_temp[i] = x_train[i].flatten()\n",
    "        \n",
    "    x_test_temp = np.zeros((10000, 784))\n",
    "    for i in range(len(x_test)):\n",
    "        x_test_temp[i] = x_test[i].flatten()\n",
    "    \n",
    "    x_train = x_train_temp[0:60000]\n",
    "    x_test = x_test_temp\n",
    "    \n",
    "    x_train = x_train/255\n",
    "    x_test = x_test/255\n",
    "    \n",
    "    return x_train, y_train, x_test, y_test"
   ]
  },
  {
   "cell_type": "code",
   "execution_count": 29,
   "metadata": {},
   "outputs": [],
   "source": [
    "x_train, y_train, x_test, y_test = getMnistData()"
   ]
  },
  {
   "cell_type": "code",
   "execution_count": 32,
   "metadata": {},
   "outputs": [
    {
     "data": {
      "text/plain": [
       "60000"
      ]
     },
     "execution_count": 32,
     "metadata": {},
     "output_type": "execute_result"
    }
   ],
   "source": [
    "len(x_train)"
   ]
  },
  {
   "cell_type": "code",
   "execution_count": 39,
   "metadata": {},
   "outputs": [
    {
     "name": "stdout",
     "output_type": "stream",
     "text": [
      "Epoch 1/10\n",
      "60000/60000 [==============================] - 1s 24us/step - loss: 0.2305 - acc: 0.9348\n",
      "Epoch 2/10\n",
      "60000/60000 [==============================] - 1s 20us/step - loss: 0.2265 - acc: 0.9359\n",
      "Epoch 3/10\n",
      "60000/60000 [==============================] - 1s 20us/step - loss: 0.2229 - acc: 0.9372\n",
      "Epoch 4/10\n",
      "60000/60000 [==============================] - 1s 21us/step - loss: 0.2194 - acc: 0.9381\n",
      "Epoch 5/10\n",
      "60000/60000 [==============================] - 1s 21us/step - loss: 0.2160 - acc: 0.9392\n",
      "Epoch 6/10\n",
      "60000/60000 [==============================] - 1s 21us/step - loss: 0.2127 - acc: 0.9399\n",
      "Epoch 7/10\n",
      "60000/60000 [==============================] - 1s 21us/step - loss: 0.2094 - acc: 0.9407\n",
      "Epoch 8/10\n",
      "60000/60000 [==============================] - 1s 21us/step - loss: 0.2063 - acc: 0.9417\n",
      "Epoch 9/10\n",
      "60000/60000 [==============================] - 1s 22us/step - loss: 0.2034 - acc: 0.9422\n",
      "Epoch 10/10\n",
      "60000/60000 [==============================] - 1s 21us/step - loss: 0.2004 - acc: 0.9436\n"
     ]
    },
    {
     "data": {
      "text/plain": [
       "<keras.callbacks.History at 0x14600522518>"
      ]
     },
     "execution_count": 39,
     "metadata": {},
     "output_type": "execute_result"
    }
   ],
   "source": [
    "# trains our network\n",
    "model.fit(x = x_train, y = y_train, batch_size = 100, epochs = 10)\n",
    "# batch size is how many samples to train our network on per epoch (aka iteration)"
   ]
  },
  {
   "cell_type": "code",
   "execution_count": 40,
   "metadata": {},
   "outputs": [
    {
     "name": "stdout",
     "output_type": "stream",
     "text": [
      "10000/10000 [==============================] - 0s 15us/step\n"
     ]
    },
    {
     "data": {
      "text/plain": [
       "[0.19990622526034713, 0.9404000049829483]"
      ]
     },
     "execution_count": 40,
     "metadata": {},
     "output_type": "execute_result"
    }
   ],
   "source": [
    "# pretty self-explanatory\n",
    "model.evaluate(x = x_test, y = y_test, batch_size = 100)"
   ]
  },
  {
   "cell_type": "code",
   "execution_count": null,
   "metadata": {},
   "outputs": [],
   "source": []
  }
 ],
 "metadata": {
  "kernelspec": {
   "display_name": "Python 3",
   "language": "python",
   "name": "python3"
  },
  "language_info": {
   "codemirror_mode": {
    "name": "ipython",
    "version": 3
   },
   "file_extension": ".py",
   "mimetype": "text/x-python",
   "name": "python",
   "nbconvert_exporter": "python",
   "pygments_lexer": "ipython3",
   "version": "3.6.4"
  }
 },
 "nbformat": 4,
 "nbformat_minor": 2
}
